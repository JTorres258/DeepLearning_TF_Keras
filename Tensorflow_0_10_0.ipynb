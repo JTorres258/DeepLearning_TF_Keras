{
 "cells": [
  {
   "cell_type": "markdown",
   "metadata": {},
   "source": [
    "\n",
    "## Upgrading Tensorflow \n"
   ]
  },
  {
   "cell_type": "code",
   "execution_count": 1,
   "metadata": {
    "collapsed": false
   },
   "outputs": [
    {
     "name": "stdout",
     "output_type": "stream",
     "text": [
      "Name: tensorflow\r\n",
      "Version: 0.10.0\r\n",
      "Summary: TensorFlow helps the tensors flow\r\n",
      "Home-page: http://tensorflow.org/\r\n",
      "Author: Google Inc.\r\n",
      "Author-email: opensource@google.com\r\n",
      "License: Apache 2.0\r\n",
      "Location: /gpfs/global_fs01/sym_shared/YPProdSpark/user/s35d-c92fe439b3aa21-1525a0f645bc/.local/lib/python2.7/site-packages\r\n",
      "Requires: mock, numpy, six, protobuf, wheel\r\n"
     ]
    }
   ],
   "source": [
    "! pip show tensorflow"
   ]
  },
  {
   "cell_type": "code",
   "execution_count": 4,
   "metadata": {
    "collapsed": false
   },
   "outputs": [
    {
     "name": "stdout",
     "output_type": "stream",
     "text": [
      "Collecting tensorflow==0.10.0 from https://storage.googleapis.com/tensorflow/linux/cpu/tensorflow-0.10.0-cp27-none-linux_x86_64.whl\n",
      "  Using cached https://storage.googleapis.com/tensorflow/linux/cpu/tensorflow-0.10.0-cp27-none-linux_x86_64.whl\n",
      "Requirement already satisfied: mock>=2.0.0 in /gpfs/global_fs01/sym_shared/YPProdSpark/user/s35d-c92fe439b3aa21-1525a0f645bc/.local/lib/python2.7/site-packages (from tensorflow==0.10.0)\n",
      "Requirement already satisfied: numpy>=1.8.2 in /gpfs/global_fs01/sym_shared/YPProdSpark/user/s35d-c92fe439b3aa21-1525a0f645bc/.local/lib/python2.7/site-packages (from tensorflow==0.10.0)\n",
      "Requirement already satisfied: six>=1.10.0 in /usr/local/src/bluemix_jupyter_bundle.v41/notebook/lib/python2.7/site-packages (from tensorflow==0.10.0)\n",
      "Collecting protobuf==3.0.0b2 (from tensorflow==0.10.0)\n",
      "  Downloading protobuf-3.0.0b2-py2.py3-none-any.whl (326kB)\n",
      "\u001b[K    100% |████████████████████████████████| 327kB 1.6MB/s \n",
      "\u001b[?25hRequirement already satisfied: wheel in /usr/local/src/bluemix_jupyter_bundle.v41/notebook/lib/python2.7/site-packages (from tensorflow==0.10.0)\n",
      "Requirement already satisfied: funcsigs>=1; python_version < \"3.3\" in /gpfs/global_fs01/sym_shared/YPProdSpark/user/s35d-c92fe439b3aa21-1525a0f645bc/.local/lib/python2.7/site-packages (from mock>=2.0.0->tensorflow==0.10.0)\n",
      "Requirement already satisfied: pbr>=0.11 in /gpfs/global_fs01/sym_shared/YPProdSpark/user/s35d-c92fe439b3aa21-1525a0f645bc/.local/lib/python2.7/site-packages (from mock>=2.0.0->tensorflow==0.10.0)\n",
      "Requirement already satisfied: setuptools in /gpfs/global_fs01/sym_shared/YPProdSpark/user/s35d-c92fe439b3aa21-1525a0f645bc/.local/lib/python2.7/site-packages (from protobuf==3.0.0b2->tensorflow==0.10.0)\n",
      "Requirement already satisfied: appdirs>=1.4.0 in /gpfs/global_fs01/sym_shared/YPProdSpark/user/s35d-c92fe439b3aa21-1525a0f645bc/.local/lib/python2.7/site-packages (from setuptools->protobuf==3.0.0b2->tensorflow==0.10.0)\n",
      "Requirement already satisfied: packaging>=16.8 in /usr/local/src/bluemix_jupyter_bundle.v41/notebook/lib/python2.7/site-packages (from setuptools->protobuf==3.0.0b2->tensorflow==0.10.0)\n",
      "Requirement already satisfied: pyparsing in /gpfs/global_fs01/sym_shared/YPProdSpark/user/s35d-c92fe439b3aa21-1525a0f645bc/.local/lib/python2.7/site-packages (from packaging>=16.8->setuptools->protobuf==3.0.0b2->tensorflow==0.10.0)\n",
      "Installing collected packages: protobuf, tensorflow\n",
      "  Found existing installation: protobuf 3.1.0\n",
      "    Uninstalling protobuf-3.1.0:\n",
      "      Successfully uninstalled protobuf-3.1.0\n",
      "  Found existing installation: tensorflow 0.12.1\n",
      "    Uninstalling tensorflow-0.12.1:\n",
      "      Successfully uninstalled tensorflow-0.12.1\n",
      "Successfully installed protobuf-3.0.0b2 tensorflow-0.10.0\n"
     ]
    }
   ],
   "source": [
    "! pip install https://storage.googleapis.com/tensorflow/linux/cpu/tensorflow-0.10.0-cp27-none-linux_x86_64.whl"
   ]
  },
  {
   "cell_type": "code",
   "execution_count": 5,
   "metadata": {
    "collapsed": false
   },
   "outputs": [],
   "source": [
    "import tensorflow as tf"
   ]
  },
  {
   "cell_type": "code",
   "execution_count": null,
   "metadata": {
    "collapsed": true
   },
   "outputs": [],
   "source": []
  }
 ],
 "metadata": {
  "kernelspec": {
   "display_name": "Python 2 with Spark 1.6",
   "language": "python",
   "name": "python2"
  },
  "language_info": {
   "codemirror_mode": {
    "name": "ipython",
    "version": 2
   },
   "file_extension": ".py",
   "mimetype": "text/x-python",
   "name": "python",
   "nbconvert_exporter": "python",
   "pygments_lexer": "ipython2",
   "version": "2.7.11"
  },
  "widgets": {
   "state": {},
   "version": "1.1.2"
  }
 },
 "nbformat": 4,
 "nbformat_minor": 0
}